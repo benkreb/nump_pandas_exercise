{
  "nbformat": 4,
  "nbformat_minor": 0,
  "metadata": {
    "colab": {
      "provenance": []
    },
    "kernelspec": {
      "name": "python3",
      "display_name": "Python 3"
    },
    "language_info": {
      "name": "python"
    }
  },
  "cells": [
    {
      "cell_type": "code",
      "execution_count": 16,
      "metadata": {
        "id": "6GJrGMznvQ31"
      },
      "outputs": [],
      "source": [
        "import pandas as pd\n",
        "import numpy as np\n",
        "import seaborn as sns\n",
        "import matplotlib.pyplot as plt"
      ]
    },
    {
      "cell_type": "code",
      "source": [
        "np.random.seed(42)\n",
        "data = np.random.rand(10, 4)\n",
        "df = pd.DataFrame(data, columns=['A', 'B', 'C', 'D'])"
      ],
      "metadata": {
        "id": "uZAXUVBrvZgf"
      },
      "execution_count": 2,
      "outputs": []
    },
    {
      "cell_type": "code",
      "source": [
        "rows_to_nan = np.random.choice(df.index, size=3, replace=False)\n",
        "cols_to_nan = np.random.choice(df.columns, size=3, replace=False)"
      ],
      "metadata": {
        "id": "8nJfnG1nvbOf"
      },
      "execution_count": 3,
      "outputs": []
    },
    {
      "cell_type": "code",
      "source": [
        "df.loc[rows_to_nan, cols_to_nan] = np.nan"
      ],
      "metadata": {
        "id": "Q5rZI_bhvcGg"
      },
      "execution_count": 4,
      "outputs": []
    },
    {
      "cell_type": "code",
      "source": [
        "def highlight_nan(val):\n",
        "    if pd.isna(val):\n",
        "        return 'background-color: red'\n",
        "    else:\n",
        "        return ''"
      ],
      "metadata": {
        "id": "fpc-Vj7SvdLV"
      },
      "execution_count": 5,
      "outputs": []
    },
    {
      "cell_type": "code",
      "source": [
        "styled_df = df.style.applymap(highlight_nan)\n",
        "styled_df"
      ],
      "metadata": {
        "colab": {
          "base_uri": "https://localhost:8080/",
          "height": 363
        },
        "id": "7mtO0nRvvfRW",
        "outputId": "bfb4cb97-4651-4199-9679-fa02f22fe0e8"
      },
      "execution_count": 6,
      "outputs": [
        {
          "output_type": "execute_result",
          "data": {
            "text/plain": [
              "<pandas.io.formats.style.Styler at 0x7a9f5a159240>"
            ],
            "text/html": [
              "<style type=\"text/css\">\n",
              "#T_9bf79_row1_col0, #T_9bf79_row1_col1, #T_9bf79_row1_col2, #T_9bf79_row4_col0, #T_9bf79_row4_col1, #T_9bf79_row4_col2, #T_9bf79_row8_col0, #T_9bf79_row8_col1, #T_9bf79_row8_col2 {\n",
              "  background-color: red;\n",
              "}\n",
              "</style>\n",
              "<table id=\"T_9bf79\" class=\"dataframe\">\n",
              "  <thead>\n",
              "    <tr>\n",
              "      <th class=\"blank level0\" >&nbsp;</th>\n",
              "      <th id=\"T_9bf79_level0_col0\" class=\"col_heading level0 col0\" >A</th>\n",
              "      <th id=\"T_9bf79_level0_col1\" class=\"col_heading level0 col1\" >B</th>\n",
              "      <th id=\"T_9bf79_level0_col2\" class=\"col_heading level0 col2\" >C</th>\n",
              "      <th id=\"T_9bf79_level0_col3\" class=\"col_heading level0 col3\" >D</th>\n",
              "    </tr>\n",
              "  </thead>\n",
              "  <tbody>\n",
              "    <tr>\n",
              "      <th id=\"T_9bf79_level0_row0\" class=\"row_heading level0 row0\" >0</th>\n",
              "      <td id=\"T_9bf79_row0_col0\" class=\"data row0 col0\" >0.374540</td>\n",
              "      <td id=\"T_9bf79_row0_col1\" class=\"data row0 col1\" >0.950714</td>\n",
              "      <td id=\"T_9bf79_row0_col2\" class=\"data row0 col2\" >0.731994</td>\n",
              "      <td id=\"T_9bf79_row0_col3\" class=\"data row0 col3\" >0.598658</td>\n",
              "    </tr>\n",
              "    <tr>\n",
              "      <th id=\"T_9bf79_level0_row1\" class=\"row_heading level0 row1\" >1</th>\n",
              "      <td id=\"T_9bf79_row1_col0\" class=\"data row1 col0\" >nan</td>\n",
              "      <td id=\"T_9bf79_row1_col1\" class=\"data row1 col1\" >nan</td>\n",
              "      <td id=\"T_9bf79_row1_col2\" class=\"data row1 col2\" >nan</td>\n",
              "      <td id=\"T_9bf79_row1_col3\" class=\"data row1 col3\" >0.866176</td>\n",
              "    </tr>\n",
              "    <tr>\n",
              "      <th id=\"T_9bf79_level0_row2\" class=\"row_heading level0 row2\" >2</th>\n",
              "      <td id=\"T_9bf79_row2_col0\" class=\"data row2 col0\" >0.601115</td>\n",
              "      <td id=\"T_9bf79_row2_col1\" class=\"data row2 col1\" >0.708073</td>\n",
              "      <td id=\"T_9bf79_row2_col2\" class=\"data row2 col2\" >0.020584</td>\n",
              "      <td id=\"T_9bf79_row2_col3\" class=\"data row2 col3\" >0.969910</td>\n",
              "    </tr>\n",
              "    <tr>\n",
              "      <th id=\"T_9bf79_level0_row3\" class=\"row_heading level0 row3\" >3</th>\n",
              "      <td id=\"T_9bf79_row3_col0\" class=\"data row3 col0\" >0.832443</td>\n",
              "      <td id=\"T_9bf79_row3_col1\" class=\"data row3 col1\" >0.212339</td>\n",
              "      <td id=\"T_9bf79_row3_col2\" class=\"data row3 col2\" >0.181825</td>\n",
              "      <td id=\"T_9bf79_row3_col3\" class=\"data row3 col3\" >0.183405</td>\n",
              "    </tr>\n",
              "    <tr>\n",
              "      <th id=\"T_9bf79_level0_row4\" class=\"row_heading level0 row4\" >4</th>\n",
              "      <td id=\"T_9bf79_row4_col0\" class=\"data row4 col0\" >nan</td>\n",
              "      <td id=\"T_9bf79_row4_col1\" class=\"data row4 col1\" >nan</td>\n",
              "      <td id=\"T_9bf79_row4_col2\" class=\"data row4 col2\" >nan</td>\n",
              "      <td id=\"T_9bf79_row4_col3\" class=\"data row4 col3\" >0.291229</td>\n",
              "    </tr>\n",
              "    <tr>\n",
              "      <th id=\"T_9bf79_level0_row5\" class=\"row_heading level0 row5\" >5</th>\n",
              "      <td id=\"T_9bf79_row5_col0\" class=\"data row5 col0\" >0.611853</td>\n",
              "      <td id=\"T_9bf79_row5_col1\" class=\"data row5 col1\" >0.139494</td>\n",
              "      <td id=\"T_9bf79_row5_col2\" class=\"data row5 col2\" >0.292145</td>\n",
              "      <td id=\"T_9bf79_row5_col3\" class=\"data row5 col3\" >0.366362</td>\n",
              "    </tr>\n",
              "    <tr>\n",
              "      <th id=\"T_9bf79_level0_row6\" class=\"row_heading level0 row6\" >6</th>\n",
              "      <td id=\"T_9bf79_row6_col0\" class=\"data row6 col0\" >0.456070</td>\n",
              "      <td id=\"T_9bf79_row6_col1\" class=\"data row6 col1\" >0.785176</td>\n",
              "      <td id=\"T_9bf79_row6_col2\" class=\"data row6 col2\" >0.199674</td>\n",
              "      <td id=\"T_9bf79_row6_col3\" class=\"data row6 col3\" >0.514234</td>\n",
              "    </tr>\n",
              "    <tr>\n",
              "      <th id=\"T_9bf79_level0_row7\" class=\"row_heading level0 row7\" >7</th>\n",
              "      <td id=\"T_9bf79_row7_col0\" class=\"data row7 col0\" >0.592415</td>\n",
              "      <td id=\"T_9bf79_row7_col1\" class=\"data row7 col1\" >0.046450</td>\n",
              "      <td id=\"T_9bf79_row7_col2\" class=\"data row7 col2\" >0.607545</td>\n",
              "      <td id=\"T_9bf79_row7_col3\" class=\"data row7 col3\" >0.170524</td>\n",
              "    </tr>\n",
              "    <tr>\n",
              "      <th id=\"T_9bf79_level0_row8\" class=\"row_heading level0 row8\" >8</th>\n",
              "      <td id=\"T_9bf79_row8_col0\" class=\"data row8 col0\" >nan</td>\n",
              "      <td id=\"T_9bf79_row8_col1\" class=\"data row8 col1\" >nan</td>\n",
              "      <td id=\"T_9bf79_row8_col2\" class=\"data row8 col2\" >nan</td>\n",
              "      <td id=\"T_9bf79_row8_col3\" class=\"data row8 col3\" >0.808397</td>\n",
              "    </tr>\n",
              "    <tr>\n",
              "      <th id=\"T_9bf79_level0_row9\" class=\"row_heading level0 row9\" >9</th>\n",
              "      <td id=\"T_9bf79_row9_col0\" class=\"data row9 col0\" >0.304614</td>\n",
              "      <td id=\"T_9bf79_row9_col1\" class=\"data row9 col1\" >0.097672</td>\n",
              "      <td id=\"T_9bf79_row9_col2\" class=\"data row9 col2\" >0.684233</td>\n",
              "      <td id=\"T_9bf79_row9_col3\" class=\"data row9 col3\" >0.440152</td>\n",
              "    </tr>\n",
              "  </tbody>\n",
              "</table>\n"
            ]
          },
          "metadata": {},
          "execution_count": 6
        }
      ]
    },
    {
      "cell_type": "code",
      "source": [
        "np.random.seed(42)\n",
        "data = np.random.rand(10, 4)\n",
        "df = pd.DataFrame(data, columns=['A', 'B', 'C', 'D'])"
      ],
      "metadata": {
        "id": "cdEJl0llvqEY"
      },
      "execution_count": 8,
      "outputs": []
    },
    {
      "cell_type": "code",
      "source": [
        "def highlight_columns(val):\n",
        "    color_map = {\n",
        "        'A': 'background-color: yellow',\n",
        "        'B': 'background-color: cyan',\n",
        "        'C': 'background-color: lightgreen',\n",
        "        'D': 'background-color: lightblue'\n",
        "    }\n",
        "    if isinstance(val, pd.Series):\n",
        "        return [color_map.get(column, '') for column in val.index]\n",
        "    else:\n",
        "        return [color_map.get(val.name, '')]\n"
      ],
      "metadata": {
        "id": "jEO7_EcIvziC"
      },
      "execution_count": 14,
      "outputs": []
    },
    {
      "cell_type": "code",
      "source": [
        "styled_df = df.style.apply(highlight_columns)\n",
        "styled_df"
      ],
      "metadata": {
        "colab": {
          "base_uri": "https://localhost:8080/",
          "height": 363
        },
        "id": "uVzJcqUvv44v",
        "outputId": "e8c069d4-f8bf-4881-8c05-64b9f8db280e"
      },
      "execution_count": 15,
      "outputs": [
        {
          "output_type": "execute_result",
          "data": {
            "text/plain": [
              "<pandas.io.formats.style.Styler at 0x7a9f5a0c31f0>"
            ],
            "text/html": [
              "<style type=\"text/css\">\n",
              "</style>\n",
              "<table id=\"T_5df76\" class=\"dataframe\">\n",
              "  <thead>\n",
              "    <tr>\n",
              "      <th class=\"blank level0\" >&nbsp;</th>\n",
              "      <th id=\"T_5df76_level0_col0\" class=\"col_heading level0 col0\" >A</th>\n",
              "      <th id=\"T_5df76_level0_col1\" class=\"col_heading level0 col1\" >B</th>\n",
              "      <th id=\"T_5df76_level0_col2\" class=\"col_heading level0 col2\" >C</th>\n",
              "      <th id=\"T_5df76_level0_col3\" class=\"col_heading level0 col3\" >D</th>\n",
              "    </tr>\n",
              "  </thead>\n",
              "  <tbody>\n",
              "    <tr>\n",
              "      <th id=\"T_5df76_level0_row0\" class=\"row_heading level0 row0\" >0</th>\n",
              "      <td id=\"T_5df76_row0_col0\" class=\"data row0 col0\" >0.374540</td>\n",
              "      <td id=\"T_5df76_row0_col1\" class=\"data row0 col1\" >0.950714</td>\n",
              "      <td id=\"T_5df76_row0_col2\" class=\"data row0 col2\" >0.731994</td>\n",
              "      <td id=\"T_5df76_row0_col3\" class=\"data row0 col3\" >0.598658</td>\n",
              "    </tr>\n",
              "    <tr>\n",
              "      <th id=\"T_5df76_level0_row1\" class=\"row_heading level0 row1\" >1</th>\n",
              "      <td id=\"T_5df76_row1_col0\" class=\"data row1 col0\" >0.156019</td>\n",
              "      <td id=\"T_5df76_row1_col1\" class=\"data row1 col1\" >0.155995</td>\n",
              "      <td id=\"T_5df76_row1_col2\" class=\"data row1 col2\" >0.058084</td>\n",
              "      <td id=\"T_5df76_row1_col3\" class=\"data row1 col3\" >0.866176</td>\n",
              "    </tr>\n",
              "    <tr>\n",
              "      <th id=\"T_5df76_level0_row2\" class=\"row_heading level0 row2\" >2</th>\n",
              "      <td id=\"T_5df76_row2_col0\" class=\"data row2 col0\" >0.601115</td>\n",
              "      <td id=\"T_5df76_row2_col1\" class=\"data row2 col1\" >0.708073</td>\n",
              "      <td id=\"T_5df76_row2_col2\" class=\"data row2 col2\" >0.020584</td>\n",
              "      <td id=\"T_5df76_row2_col3\" class=\"data row2 col3\" >0.969910</td>\n",
              "    </tr>\n",
              "    <tr>\n",
              "      <th id=\"T_5df76_level0_row3\" class=\"row_heading level0 row3\" >3</th>\n",
              "      <td id=\"T_5df76_row3_col0\" class=\"data row3 col0\" >0.832443</td>\n",
              "      <td id=\"T_5df76_row3_col1\" class=\"data row3 col1\" >0.212339</td>\n",
              "      <td id=\"T_5df76_row3_col2\" class=\"data row3 col2\" >0.181825</td>\n",
              "      <td id=\"T_5df76_row3_col3\" class=\"data row3 col3\" >0.183405</td>\n",
              "    </tr>\n",
              "    <tr>\n",
              "      <th id=\"T_5df76_level0_row4\" class=\"row_heading level0 row4\" >4</th>\n",
              "      <td id=\"T_5df76_row4_col0\" class=\"data row4 col0\" >0.304242</td>\n",
              "      <td id=\"T_5df76_row4_col1\" class=\"data row4 col1\" >0.524756</td>\n",
              "      <td id=\"T_5df76_row4_col2\" class=\"data row4 col2\" >0.431945</td>\n",
              "      <td id=\"T_5df76_row4_col3\" class=\"data row4 col3\" >0.291229</td>\n",
              "    </tr>\n",
              "    <tr>\n",
              "      <th id=\"T_5df76_level0_row5\" class=\"row_heading level0 row5\" >5</th>\n",
              "      <td id=\"T_5df76_row5_col0\" class=\"data row5 col0\" >0.611853</td>\n",
              "      <td id=\"T_5df76_row5_col1\" class=\"data row5 col1\" >0.139494</td>\n",
              "      <td id=\"T_5df76_row5_col2\" class=\"data row5 col2\" >0.292145</td>\n",
              "      <td id=\"T_5df76_row5_col3\" class=\"data row5 col3\" >0.366362</td>\n",
              "    </tr>\n",
              "    <tr>\n",
              "      <th id=\"T_5df76_level0_row6\" class=\"row_heading level0 row6\" >6</th>\n",
              "      <td id=\"T_5df76_row6_col0\" class=\"data row6 col0\" >0.456070</td>\n",
              "      <td id=\"T_5df76_row6_col1\" class=\"data row6 col1\" >0.785176</td>\n",
              "      <td id=\"T_5df76_row6_col2\" class=\"data row6 col2\" >0.199674</td>\n",
              "      <td id=\"T_5df76_row6_col3\" class=\"data row6 col3\" >0.514234</td>\n",
              "    </tr>\n",
              "    <tr>\n",
              "      <th id=\"T_5df76_level0_row7\" class=\"row_heading level0 row7\" >7</th>\n",
              "      <td id=\"T_5df76_row7_col0\" class=\"data row7 col0\" >0.592415</td>\n",
              "      <td id=\"T_5df76_row7_col1\" class=\"data row7 col1\" >0.046450</td>\n",
              "      <td id=\"T_5df76_row7_col2\" class=\"data row7 col2\" >0.607545</td>\n",
              "      <td id=\"T_5df76_row7_col3\" class=\"data row7 col3\" >0.170524</td>\n",
              "    </tr>\n",
              "    <tr>\n",
              "      <th id=\"T_5df76_level0_row8\" class=\"row_heading level0 row8\" >8</th>\n",
              "      <td id=\"T_5df76_row8_col0\" class=\"data row8 col0\" >0.065052</td>\n",
              "      <td id=\"T_5df76_row8_col1\" class=\"data row8 col1\" >0.948886</td>\n",
              "      <td id=\"T_5df76_row8_col2\" class=\"data row8 col2\" >0.965632</td>\n",
              "      <td id=\"T_5df76_row8_col3\" class=\"data row8 col3\" >0.808397</td>\n",
              "    </tr>\n",
              "    <tr>\n",
              "      <th id=\"T_5df76_level0_row9\" class=\"row_heading level0 row9\" >9</th>\n",
              "      <td id=\"T_5df76_row9_col0\" class=\"data row9 col0\" >0.304614</td>\n",
              "      <td id=\"T_5df76_row9_col1\" class=\"data row9 col1\" >0.097672</td>\n",
              "      <td id=\"T_5df76_row9_col2\" class=\"data row9 col2\" >0.684233</td>\n",
              "      <td id=\"T_5df76_row9_col3\" class=\"data row9 col3\" >0.440152</td>\n",
              "    </tr>\n",
              "  </tbody>\n",
              "</table>\n"
            ]
          },
          "metadata": {},
          "execution_count": 15
        }
      ]
    },
    {
      "cell_type": "code",
      "source": [
        "plt.figure(figsize=(8, 6))  # Set the size of the heatmap plot\n",
        "sns.heatmap(df, cmap='coolwarm', annot=True)"
      ],
      "metadata": {
        "colab": {
          "base_uri": "https://localhost:8080/",
          "height": 539
        },
        "id": "1lyTDDnBwc1Q",
        "outputId": "cae9839b-b97b-4443-8880-651c9c4a3588"
      },
      "execution_count": 17,
      "outputs": [
        {
          "output_type": "execute_result",
          "data": {
            "text/plain": [
              "<Axes: >"
            ]
          },
          "metadata": {},
          "execution_count": 17
        },
        {
          "output_type": "display_data",
          "data": {
            "text/plain": [
              "<Figure size 800x600 with 2 Axes>"
            ],
            "image/png": "[encoded data removed]"
          },
          "metadata": {}
        }
      ]
    }
  ]
}